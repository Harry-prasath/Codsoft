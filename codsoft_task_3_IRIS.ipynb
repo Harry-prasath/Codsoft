{
  "nbformat": 4,
  "nbformat_minor": 0,
  "metadata": {
    "colab": {
      "private_outputs": true,
      "provenance": [],
      "authorship_tag": "ABX9TyOFBOvjXwHVBEvO077/hzGF",
      "include_colab_link": true
    },
    "kernelspec": {
      "name": "python3",
      "display_name": "Python 3"
    },
    "language_info": {
      "name": "python"
    }
  },
  "cells": [
    {
      "cell_type": "markdown",
      "metadata": {
        "id": "view-in-github",
        "colab_type": "text"
      },
      "source": [
        "<a href=\"https://colab.research.google.com/github/Harry-prasath/Codsoft/blob/main/codsoft_task_3_IRIS.ipynb\" target=\"_parent\"><img src=\"https://colab.research.google.com/assets/colab-badge.svg\" alt=\"Open In Colab\"/></a>"
      ]
    },
    {
      "cell_type": "code",
      "execution_count": null,
      "metadata": {
        "id": "gVT_FQFsJdVB"
      },
      "outputs": [],
      "source": [
        "!git clone https://github.com/Fayasrx/CodSoft.git\n"
      ]
    },
    {
      "cell_type": "code",
      "source": [
        "import pandas as pd\n",
        "import numpy as np\n",
        "import matplotlib.pyplot as plt\n",
        "import seaborn as sns\n",
        "from sklearn.model_selection import train_test_split\n",
        "from sklearn.neighbors import KNeighborsClassifier\n",
        "from sklearn.metrics import classification_report, accuracy_score"
      ],
      "metadata": {
        "id": "dU-n-A52JuhQ"
      },
      "execution_count": null,
      "outputs": []
    },
    {
      "cell_type": "code",
      "source": [
        "iris = pd.read_csv('/content/CodSoft/IRIS.csv')"
      ],
      "metadata": {
        "id": "Wk3c4WXoJl4m"
      },
      "execution_count": null,
      "outputs": []
    },
    {
      "cell_type": "code",
      "source": [
        "iris.head()"
      ],
      "metadata": {
        "id": "dhdwddczJl1Q"
      },
      "execution_count": null,
      "outputs": []
    },
    {
      "cell_type": "code",
      "source": [
        "iris.info()"
      ],
      "metadata": {
        "id": "Fol_G5d4JlyV"
      },
      "execution_count": null,
      "outputs": []
    },
    {
      "cell_type": "code",
      "source": [
        "iris.describe()"
      ],
      "metadata": {
        "id": "5FNzzt-qJlvd"
      },
      "execution_count": null,
      "outputs": []
    },
    {
      "cell_type": "code",
      "source": [
        "iris.isnull().sum()"
      ],
      "metadata": {
        "id": "gBE99whCJlsW"
      },
      "execution_count": null,
      "outputs": []
    },
    {
      "cell_type": "code",
      "source": [
        "sns.pairplot(iris, hue=\"species\")\n",
        "plt.show()"
      ],
      "metadata": {
        "id": "wbezitbCJlpH"
      },
      "execution_count": null,
      "outputs": []
    },
    {
      "cell_type": "code",
      "source": [
        "x = iris.drop(\"species\", axis=1)\n",
        "y=iris['species']\n",
        "\n",
        "x_train, x_test, y_train, y_test = train_test_split(x , y, test_size=0.3, random_state=20)\n"
      ],
      "metadata": {
        "id": "hmMWqDccJlmA"
      },
      "execution_count": null,
      "outputs": []
    },
    {
      "cell_type": "code",
      "source": [
        "knn= KNeighborsClassifier(n_neighbors=3)\n",
        "knn.fit(x_train, y_train)"
      ],
      "metadata": {
        "id": "4wuLn7lgJli3"
      },
      "execution_count": null,
      "outputs": []
    },
    {
      "cell_type": "code",
      "source": [
        "y_pred = knn.predict(x_test)"
      ],
      "metadata": {
        "id": "6BFopHloJlfs"
      },
      "execution_count": null,
      "outputs": []
    },
    {
      "cell_type": "code",
      "source": [
        "print(\"Accuracy:\", accuracy_score(y_test, y_pred))"
      ],
      "metadata": {
        "id": "vxgAYbzuJlcu"
      },
      "execution_count": null,
      "outputs": []
    },
    {
      "cell_type": "code",
      "source": [
        " print(classification_report(y_test,y_pred))"
      ],
      "metadata": {
        "id": "9HCQc9j8JlZt"
      },
      "execution_count": null,
      "outputs": []
    },
    {
      "cell_type": "code",
      "source": [
        "pred_data = pd.DataFrame({\"sepal_length\":[6.2] , \"sepal_width\" : 3.5,\"petal_length\" : 5.4, \"petal_width\" : 2.3})\n",
        "\n",
        "prediction = knn.predict(pred_data)\n",
        "\n",
        "prediction[0]\n"
      ],
      "metadata": {
        "id": "VsPb14tRJlWh"
      },
      "execution_count": null,
      "outputs": []
    }
  ]
}