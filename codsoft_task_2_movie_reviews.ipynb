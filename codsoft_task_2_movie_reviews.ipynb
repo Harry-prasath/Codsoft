{
  "nbformat": 4,
  "nbformat_minor": 0,
  "metadata": {
    "colab": {
      "private_outputs": true,
      "provenance": [],
      "authorship_tag": "ABX9TyOR3epcte/K/ELrLZexZRKh",
      "include_colab_link": true
    },
    "kernelspec": {
      "name": "python3",
      "display_name": "Python 3"
    },
    "language_info": {
      "name": "python"
    }
  },
  "cells": [
    {
      "cell_type": "markdown",
      "metadata": {
        "id": "view-in-github",
        "colab_type": "text"
      },
      "source": [
        "<a href=\"https://colab.research.google.com/github/Harry-prasath/Codsoft/blob/main/codsoft_task_2_movie_reviews.ipynb\" target=\"_parent\"><img src=\"https://colab.research.google.com/assets/colab-badge.svg\" alt=\"Open In Colab\"/></a>"
      ]
    },
    {
      "cell_type": "code",
      "execution_count": null,
      "metadata": {
        "id": "fJ2wn018iIiE"
      },
      "outputs": [],
      "source": [
        "!git clone https://github.com/Harry-prasath/CodSoft.git"
      ]
    },
    {
      "cell_type": "code",
      "source": [
        "import numpy as np\n",
        "import pandas as pd\n",
        "import matplotlib.pyplot as plt\n",
        "import seaborn as sns\n",
        "import plotly.express as px"
      ],
      "metadata": {
        "id": "K9yNud-Zi-C8"
      },
      "execution_count": null,
      "outputs": []
    },
    {
      "cell_type": "code",
      "source": [
        "imdb = pd.read_csv('/content/CodSoft/IMDb Movies India 1.csv', encoding='latin-1')\n",
        "print(imdb.head())\n",
        "imdb.isnull().sum()"
      ],
      "metadata": {
        "id": "5JZwXYGejM4c"
      },
      "execution_count": null,
      "outputs": []
    },
    {
      "cell_type": "code",
      "source": [
        "imdb.shape"
      ],
      "metadata": {
        "id": "xxW7ZmnDkCbc"
      },
      "execution_count": null,
      "outputs": []
    },
    {
      "cell_type": "code",
      "source": [
        "imdb.duplicated().sum()"
      ],
      "metadata": {
        "id": "s2BBuY2JkhGz"
      },
      "execution_count": null,
      "outputs": []
    },
    {
      "cell_type": "code",
      "source": [
        "imdb.dropna(inplace=True)\n",
        "imdb.shape\n",
        "imdb.isnull().sum()"
      ],
      "metadata": {
        "id": "upmKxDeJmg_k"
      },
      "execution_count": null,
      "outputs": []
    },
    {
      "cell_type": "code",
      "source": [
        "imdb.columns\n",
        "print(imdb['Year'])"
      ],
      "metadata": {
        "id": "qbSp2yM8njq1"
      },
      "execution_count": null,
      "outputs": []
    },
    {
      "cell_type": "code",
      "source": [
        "imdb['Year'] = imdb['Year'].astype(str)\n",
        "imdb['Year'] = imdb['Year'].str.replace(r'[()]', '', regex=True).astype(float)\n",
        "print((imdb['Year']))\n",
        "imdb.shape"
      ],
      "metadata": {
        "id": "RNXcdQtoAn1U"
      },
      "execution_count": null,
      "outputs": []
    },
    {
      "cell_type": "code",
      "source": [
        "print(imdb['Duration'])"
      ],
      "metadata": {
        "id": "sVigA3eaAnys"
      },
      "execution_count": null,
      "outputs": []
    },
    {
      "cell_type": "code",
      "source": [
        "imdb['Duration']=imdb['Duration'].astype(str)\n",
        "imdb['Duration'] = pd.to_numeric(imdb['Duration'].str.replace('min',''))\n",
        "imdb['Duration']=imdb['Duration'].astype(int)\n",
        "print(imdb['Duration'])"
      ],
      "metadata": {
        "id": "4VQbGUYUAnv3"
      },
      "execution_count": null,
      "outputs": []
    },
    {
      "cell_type": "code",
      "source": [
        "imdb['Genre'] = imdb['Genre'].str.split(', ')\n",
        "\n",
        "imdb = imdb.explode('Genre')\n",
        "\n",
        "imdb['Genre'].fillna(imdb['Genre'].mode() [0], inplace=True)\n",
        "print(imdb['Genre'])"
      ],
      "metadata": {
        "id": "goeqXEhBAntN"
      },
      "execution_count": null,
      "outputs": []
    },
    {
      "cell_type": "code",
      "source": [
        "print(imdb['Votes'])"
      ],
      "metadata": {
        "id": "cu4XVu8_Anqn"
      },
      "execution_count": null,
      "outputs": []
    },
    {
      "cell_type": "code",
      "source": [
        "imdb['Votes'] = imdb['Votes'].astype(str)\n",
        "\n",
        "imdb['Votes'] = imdb['Votes'].str.replace(',', '').astype(int)\n",
        "print(imdb['Votes'])"
      ],
      "metadata": {
        "id": "_cgp6KZlAnnd"
      },
      "execution_count": null,
      "outputs": []
    },
    {
      "cell_type": "code",
      "source": [
        "imdb.info( )"
      ],
      "metadata": {
        "id": "14FfqCCEAnko"
      },
      "execution_count": null,
      "outputs": []
    },
    {
      "cell_type": "code",
      "source": [
        "sns.countplot(x='Rating',data=imdb)\n",
        "plt.show()"
      ],
      "metadata": {
        "id": "ZyUPoY3nAnhh"
      },
      "execution_count": null,
      "outputs": []
    },
    {
      "cell_type": "code",
      "source": [
        "sns.countplot(x='Genre',hue='Rating',data=imdb)\n",
        "plt.show()"
      ],
      "metadata": {
        "id": "tS0A2p4KAneq"
      },
      "execution_count": null,
      "outputs": []
    },
    {
      "cell_type": "code",
      "source": [
        "rating=px.histogram(imdb,x='Rating',color='Genre',barmode='group')\n",
        "rating.show()"
      ],
      "metadata": {
        "id": "f_G7vZ4bAnby"
      },
      "execution_count": null,
      "outputs": []
    },
    {
      "cell_type": "code",
      "source": [
        "from sklearn.linear_model import LinearRegression\n",
        "from sklearn.model_selection import train_test_split\n",
        "from sklearn.metrics import accuracy_score, mean_absolute_error, mean_squared_error, r2_score\n",
        ""
      ],
      "metadata": {
        "id": "UY8pnL4sAnY9"
      },
      "execution_count": null,
      "outputs": []
    },
    {
      "cell_type": "code",
      "source": [
        "imdb.drop(\"Name\", axis=1, inplace=True)"
      ],
      "metadata": {
        "id": "gz3Y5TRBAnWS"
      },
      "execution_count": null,
      "outputs": []
    },
    {
      "cell_type": "code",
      "source": [
        "genre_mean_rating= imdb.groupby('Genre')['Rating'].transform('mean')\n",
        "imdb['Genre_mean_rating']= genre_mean_rating"
      ],
      "metadata": {
        "id": "_n85oG_0AnTb"
      },
      "execution_count": null,
      "outputs": []
    },
    {
      "cell_type": "code",
      "source": [
        "director_mean_rating = imdb.groupby('Director')['Rating'].transform('mean')\n",
        "imdb['Director_encoded'] = director_mean_rating\n",
        "\n",
        "actor1_mean_rating = imdb.groupby('Actor 1')['Rating'].transform('mean')\n",
        "imdb['Actor1_encoded'] = actor1_mean_rating\n",
        "\n",
        "actor2_mean_rating = imdb.groupby('Actor 2')['Rating'].transform('mean')\n",
        "\n",
        "imdb['Actor2_encoded']=actor2_mean_rating\n",
        "\n",
        "actor3_mean_rating=imdb.groupby('Actor 3')['Rating'].transform('mean')\n",
        "\n",
        "imdb['Actor3_encoded']=actor3_mean_rating"
      ],
      "metadata": {
        "id": "oFfaX6fOAnQy"
      },
      "execution_count": null,
      "outputs": []
    },
    {
      "cell_type": "code",
      "source": [
        "x = imdb[['Year', 'Votes', 'Duration', 'Genre_mean_rating', 'Director_encoded', 'Actor1_encoded', 'Actor2_encoded', 'Actor3_encoded']] # Use a list to select multiple columns\n",
        "y = imdb['Rating']"
      ],
      "metadata": {
        "id": "ABilSzg6AnNv"
      },
      "execution_count": null,
      "outputs": []
    },
    {
      "cell_type": "code",
      "source": [
        "X_train, X_test, y_train, y_test = train_test_split(x, y, test_size=0.2, random_state=42)"
      ],
      "metadata": {
        "id": "GvBBPHSACBDk"
      },
      "execution_count": null,
      "outputs": []
    },
    {
      "cell_type": "code",
      "source": [
        "Model = LinearRegression()\n",
        "\n",
        "Model.fit(X_train,y_train)\n",
        "\n",
        "Model_pred = Model.predict(X_test)"
      ],
      "metadata": {
        "id": "CCnRFNopCBAJ"
      },
      "execution_count": null,
      "outputs": []
    },
    {
      "cell_type": "code",
      "source": [
        "print('The performance evaluation of Logistic Regression is below: ', '\\n')\n",
        "\n",
        "print('Mean squared error: ', mean_squared_error(y_test, Model_pred))\n",
        "\n",
        "print('Mean absolute error:', mean_absolute_error(y_test, Model_pred))\n",
        "\n",
        "print('R2 score:',r2_score(y_test, Model_pred))"
      ],
      "metadata": {
        "id": "GHfboAR4CA9S"
      },
      "execution_count": null,
      "outputs": []
    }
  ]
}