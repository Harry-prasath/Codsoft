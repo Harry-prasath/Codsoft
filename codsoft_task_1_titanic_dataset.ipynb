{
  "nbformat": 4,
  "nbformat_minor": 0,
  "metadata": {
    "colab": {
      "private_outputs": true,
      "provenance": [],
      "authorship_tag": "ABX9TyNt0hYqLieMobVtCE4JR90U",
      "include_colab_link": true
    },
    "kernelspec": {
      "name": "python3",
      "display_name": "Python 3"
    },
    "language_info": {
      "name": "python"
    }
  },
  "cells": [
    {
      "cell_type": "markdown",
      "metadata": {
        "id": "view-in-github",
        "colab_type": "text"
      },
      "source": [
        "<a href=\"https://colab.research.google.com/github/Harry-prasath/Codsoft/blob/main/codsoft_task_1_titanic_dataset.ipynb\" target=\"_parent\"><img src=\"https://colab.research.google.com/assets/colab-badge.svg\" alt=\"Open In Colab\"/></a>"
      ]
    },
    {
      "cell_type": "code",
      "execution_count": null,
      "metadata": {
        "id": "A_HBQRec20Lt"
      },
      "outputs": [],
      "source": [
        "!git clone https://github.com/Harry-prasath/CodSoft.git"
      ]
    },
    {
      "cell_type": "code",
      "source": [
        "import numpy as np\n",
        "import pandas as pd\n",
        "import matplotlib.pyplot as plt\n",
        "import seaborn as sns"
      ],
      "metadata": {
        "id": "nkVe1c2i3C-u"
      },
      "execution_count": null,
      "outputs": []
    },
    {
      "cell_type": "code",
      "source": [
        "Titanic_df = pd.read_csv('/content/CodSoft/Titanic-Dataset (1).csv')\n",
        "print(Titanic_df.head())\n",
        "print(Titanic_df.info())\n",
        "print(Titanic_df.describe())"
      ],
      "metadata": {
        "id": "KYnK3QzE3MUT"
      },
      "execution_count": null,
      "outputs": []
    },
    {
      "cell_type": "code",
      "source": [
        "Titanic_df.isnull().sum()"
      ],
      "metadata": {
        "id": "RODCeiZX3VZu"
      },
      "execution_count": null,
      "outputs": []
    },
    {
      "cell_type": "code",
      "source": [
        "Titanic_df = Titanic_df.drop(['Cabin', 'Ticket'], axis=1)\n",
        "print(Titanic_df)"
      ],
      "metadata": {
        "id": "8YAHeJVS3bXK"
      },
      "execution_count": null,
      "outputs": []
    },
    {
      "cell_type": "code",
      "source": [
        "print(Titanic_df.shape)\n",
        "print(Titanic_df)\n",
        "Titanic_df.isnull().sum()"
      ],
      "metadata": {
        "id": "uDpsoe9I3iJr"
      },
      "execution_count": null,
      "outputs": []
    },
    {
      "cell_type": "code",
      "source": [
        "Titanic_df['Age'].fillna(Titanic_df['Age'].mean(), inplace=True)\n",
        "Titanic_df['Embarked'].fillna(Titanic_df['Embarked'].mode()[0], inplace=True)\n",
        "print(Titanic_df.head())"
      ],
      "metadata": {
        "id": "g2ia27ii3iG3"
      },
      "execution_count": null,
      "outputs": []
    },
    {
      "cell_type": "code",
      "source": [
        "Titanic_df.isnull().sum()"
      ],
      "metadata": {
        "id": "oXn2dATt3iEI"
      },
      "execution_count": null,
      "outputs": []
    },
    {
      "cell_type": "code",
      "source": [
        "Titanic_df['Survived'] .value_counts()"
      ],
      "metadata": {
        "id": "DGylN5a63iBU"
      },
      "execution_count": null,
      "outputs": []
    },
    {
      "cell_type": "code",
      "source": [
        "sns.countplot(x='Survived', data=Titanic_df)\n",
        "plt.show()"
      ],
      "metadata": {
        "id": "lcfcp6bM3h-f"
      },
      "execution_count": null,
      "outputs": []
    },
    {
      "cell_type": "code",
      "source": [
        "Titanic_df['Sex'].value_counts()"
      ],
      "metadata": {
        "id": "puy8kkk43h7x"
      },
      "execution_count": null,
      "outputs": []
    },
    {
      "cell_type": "code",
      "source": [
        "sns.countplot(x='Sex',data=Titanic_df)\n",
        "plt.show()"
      ],
      "metadata": {
        "id": "2Gxv4vsi3h4_"
      },
      "execution_count": null,
      "outputs": []
    },
    {
      "cell_type": "code",
      "source": [
        "sns.countplot(x='Sex', hue='Survived', data=Titanic_df)\n",
        "plt.show()"
      ],
      "metadata": {
        "id": "IyUmqpmj3h2H"
      },
      "execution_count": null,
      "outputs": []
    },
    {
      "cell_type": "code",
      "source": [
        "sns.countplot(x='Pclass', data=Titanic_df)\n",
        "plt.show()"
      ],
      "metadata": {
        "id": "8vh-8Vjk3hzS"
      },
      "execution_count": null,
      "outputs": []
    },
    {
      "cell_type": "code",
      "source": [
        "sns.countplot(x='Pclass', hue='Survived', data=Titanic_df)\n",
        "plt.show()"
      ],
      "metadata": {
        "id": "LNstPbrF3hwh"
      },
      "execution_count": null,
      "outputs": []
    },
    {
      "cell_type": "code",
      "source": [
        "from sklearn.model_selection import train_test_split\n",
        "from sklearn.linear_model import LogisticRegression\n",
        "from sklearn.metrics import accuracy_score"
      ],
      "metadata": {
        "id": "HT8An5Q73ht0"
      },
      "execution_count": null,
      "outputs": []
    },
    {
      "cell_type": "markdown",
      "source": [],
      "metadata": {
        "id": "qkmI2fri4cm4"
      }
    },
    {
      "cell_type": "code",
      "source": [
        "Titanic_df.replace({'Sex':{'male':0,'female':1},'Embarked':{'S':0,'C':1,'Q':2}},inplace=True)"
      ],
      "metadata": {
        "id": "H-ZT7GCx3hrE"
      },
      "execution_count": null,
      "outputs": []
    },
    {
      "cell_type": "code",
      "source": [
        "print(Titanic_df)"
      ],
      "metadata": {
        "id": "_pep5TU33hoD"
      },
      "execution_count": null,
      "outputs": []
    },
    {
      "cell_type": "code",
      "source": [
        "x=Titanic_df.drop(columns=['PassengerId','Name','Survived',],axis=1)\n",
        "y=Titanic_df['Survived']\n",
        "print(x)"
      ],
      "metadata": {
        "id": "E2xnyKR74ktV"
      },
      "execution_count": null,
      "outputs": []
    },
    {
      "cell_type": "code",
      "source": [
        "x_train,x_test,y_train,y_test=train_test_split(x,y,test_size=0.2,random_state=2)"
      ],
      "metadata": {
        "id": "Llyd9zRU4kp9"
      },
      "execution_count": null,
      "outputs": []
    },
    {
      "cell_type": "code",
      "source": [
        "model=LogisticRegression()\n",
        "model.fit(x_train,y_train)"
      ],
      "metadata": {
        "id": "z85aqgwA4koG"
      },
      "execution_count": null,
      "outputs": []
    },
    {
      "cell_type": "code",
      "source": [
        "trained_model=model.predict(x_train)"
      ],
      "metadata": {
        "id": "Grhu8VKA4klM"
      },
      "execution_count": null,
      "outputs": []
    },
    {
      "cell_type": "code",
      "source": [
        "train_accuracy=accuracy_score(trained_model,y_train)\n",
        "print('Accuracy score of the training data : ', train_accuracy)"
      ],
      "metadata": {
        "id": "SRRzO3O_4kiV"
      },
      "execution_count": null,
      "outputs": []
    },
    {
      "cell_type": "code",
      "source": [
        "test_model=model.predict(x_test)\n",
        "test_accuracy=accuracy_score(test_model,y_test)\n",
        "print('Accuracy score of the testing data : ', test_accuracy)"
      ],
      "metadata": {
        "id": "QqMNNT4j47pa"
      },
      "execution_count": null,
      "outputs": []
    }
  ]
}